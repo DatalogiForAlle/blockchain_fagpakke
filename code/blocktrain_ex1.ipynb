{
 "cells": [
  {
   "cell_type": "code",
   "execution_count": 3,
   "metadata": {},
   "outputs": [],
   "source": [
    "from hashlib import sha256\n",
    "import time"
   ]
  },
  {
   "cell_type": "code",
   "execution_count": 4,
   "metadata": {},
   "outputs": [],
   "source": [
    "class Block:\n",
    "    # Decide the structure of our chain\n",
    "    \n",
    "     # --- Code to alter --- # \n",
    "    \n",
    "    # init function used when creating a block element.\n",
    "    def __init__(self, index):\n",
    "        # what attributes should it contain?\n",
    "        self.index = index\n",
    "        \n",
    "    # A function to print the block.\n",
    "    def show(self):       \n",
    "        print(\"| index: \"+str(self.index)+\" >> {} |\\n\")\n",
    "\n",
    "    # A function to compute a hash of the block the function is called by.\n",
    "    def compute_hash(self): \n",
    "        block_string = \"\"\n",
    "        return sha256(block_string.encode()).hexdigest()\n",
    "    \n",
    "     # --- End --- # \n",
    "    "
   ]
  },
  {
   "cell_type": "code",
   "execution_count": 5,
   "metadata": {},
   "outputs": [
    {
     "name": "stdout",
     "output_type": "stream",
     "text": [
      "| index: 0 >> {} |\n",
      "\n"
     ]
    }
   ],
   "source": [
    "# test_block is an newly initiated block, which we then print\n",
    "test_block = Block(0)\n",
    "test_block.show()"
   ]
  },
  {
   "cell_type": "code",
   "execution_count": 8,
   "metadata": {},
   "outputs": [],
   "source": [
    "class Blockchain:\n",
    "    # Variable across the whole class\n",
    "    difficulty = 2\n",
    "\n",
    "    # Get the last element of our chain.\n",
    "    @property\n",
    "    def last_block(self):\n",
    "        return self.chain[-1] \n",
    "\n",
    "    def __init__(self):\n",
    "        self.chain = []\n",
    "        self.create_genesis_block()\n",
    "        \n",
    "    def create_genesis_block(self):\n",
    "        # A function to generate genesis block and appends it to\n",
    "        # the chain.\n",
    "        \n",
    "        genesis_block = Block(0)\n",
    "        genesis_block.hash = genesis_block.compute_hash()\n",
    "        self.chain.append(genesis_block)\n",
    "        \n",
    "    def show_chain(self):\n",
    "        # A function to print the chain\n",
    "        for i in self.chain:\n",
    "            i.show()\n",
    "            \n",
    "    def verify_chain(self):\n",
    "        # A function to verify the whole chain, checking the validity of each block\n",
    "\n",
    "        if(len(self.chain) <= 2):\n",
    "            return True\n",
    "        else:\n",
    "            for i in range(len(self.chain)-1, 1, -1):\n",
    "                block = self.chain[i]\n",
    "                pre_block = self.chain[i-1]\n",
    "                if not self.verify_chainlink(block, pre_block):\n",
    "                    return False\n",
    "            return True\n",
    "        \n",
    "    def add_block(self, block, proof):\n",
    "        # A function that adds the block to the chain after verification.\n",
    "        \n",
    "        # add some initials checks before appending the block\n",
    "        \n",
    "        self.chain.append(block)\n",
    "        return True    \n",
    "    \n",
    "    # --- Code to alter --- # \n",
    "        \n",
    "    def verify_chainlink(self, block, previous_block):\n",
    "        # A function to verify a single chain link\n",
    "        \n",
    "        # Function should include the necessary checks to validate the connection\n",
    "        # between two blocks\n",
    "        \n",
    "        return True\n",
    "\n",
    "    def proof_of_work(self, block, show_process=False):\n",
    "        # Function that tries different values of nonce to get a hash\n",
    "        # that satisfies our difficulty criteria.\n",
    "        \n",
    "        computed_hash = block.compute_hash() # computed hash for the block\n",
    "        \n",
    "        \n",
    "        # What kind of while loop do we need?\n",
    "        # see string function 'startswith'\n",
    "        while False:\n",
    "            # how do we compute the right hash?\n",
    "            \n",
    "            # the following simply print the ongoing work.\n",
    "            if show_process:\n",
    "                print(\"Try number: \"+str(tries_num)+\" -> \"+computed_hash)\n",
    "                tries_num += 1\n",
    "\n",
    "        return computed_hash\n",
    "\n",
    "    def is_valid_proof(self, block, block_hash):\n",
    "        # Check if block_hash is valid hash of block and satisfies\n",
    "        # the difficulty criteria.\n",
    "        \n",
    "        # What check do we have to make?\n",
    "        check = False\n",
    "        \n",
    "        return check\n",
    "\n",
    "    def mine(self, new_data, show_process=False):\n",
    "        # This function mines a new block containing the\n",
    "        # data given, if show_process is set as true the\n",
    "        # nonce finding process is shown.\n",
    "        \n",
    "        last_block = self.last_block\n",
    "\n",
    "        new_block = Block(index=last_block.index + 1)\n",
    "\n",
    "        proof = self.proof_of_work(new_block, show_process)\n",
    "        self.add_block(new_block, proof)\n",
    "        return new_block.index\n",
    "    \n",
    "    # --- End --- # \n"
   ]
  },
  {
   "cell_type": "code",
   "execution_count": 9,
   "metadata": {},
   "outputs": [
    {
     "name": "stdout",
     "output_type": "stream",
     "text": [
      "| index: 0 >> {} |\n",
      "\n",
      "| index: 1 >> {} |\n",
      "\n",
      "| index: 2 >> {} |\n",
      "\n"
     ]
    },
    {
     "data": {
      "text/plain": [
       "True"
      ]
     },
     "execution_count": 9,
     "metadata": {},
     "output_type": "execute_result"
    }
   ],
   "source": [
    "test_chain = Blockchain()\n",
    "test_chain.mine(\"new data\")\n",
    "test_chain.mine(\"new data2\")\n",
    "test_chain.show_chain()\n",
    "test_chain.verify_chain()"
   ]
  },
  {
   "cell_type": "code",
   "execution_count": null,
   "metadata": {},
   "outputs": [],
   "source": []
  }
 ],
 "metadata": {
  "kernelspec": {
   "display_name": "Python 3",
   "language": "python",
   "name": "python3"
  },
  "language_info": {
   "codemirror_mode": {
    "name": "ipython",
    "version": 3
   },
   "file_extension": ".py",
   "mimetype": "text/x-python",
   "name": "python",
   "nbconvert_exporter": "python",
   "pygments_lexer": "ipython3",
   "version": "3.6.7"
  }
 },
 "nbformat": 4,
 "nbformat_minor": 2
}
