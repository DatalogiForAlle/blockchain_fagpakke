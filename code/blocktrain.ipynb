{
 "cells": [
  {
   "cell_type": "code",
   "execution_count": 114,
   "metadata": {},
   "outputs": [],
   "source": [
    "from hashlib import sha256\n",
    "import time"
   ]
  },
  {
   "cell_type": "code",
   "execution_count": 125,
   "metadata": {},
   "outputs": [],
   "source": [
    "class Block:\n",
    "    def __init__(self, index, data, timestamp, previous_hash):\n",
    "        self.index = index\n",
    "        self.data = data\n",
    "        self.timestamp = timestamp\n",
    "        self.previous_hash = previous_hash\n",
    "        self.hash = 0\n",
    "        self.nonce = 0\n",
    "        \n",
    "    def show(self):\n",
    "        # A function to print the block.\n",
    "       \n",
    "        print(\"| index: \"+str(self.index)+\" >> {data:\"+str(self.data)+\n",
    "              \", timestamp:\"+str(self.timestamp)+\", previous_hash:\"+\n",
    "              str(self.previous_hash)+\", block_hash:\"+str(self.hash)+\", nonce:\"+\n",
    "              str(self.nonce)+\"} |\")\n",
    "\n",
    "    def compute_hash(self):\n",
    "        # A function to compute a hash of the block the function is called by.\n",
    "        \n",
    "        block_string = (str(self.index) + str(self.data) + \n",
    "                        str(self.timestamp) + str(self.previous_hash) + \n",
    "                        str(self.nonce))\n",
    "        return sha256(block_string.encode()).hexdigest()\n",
    "    "
   ]
  },
  {
   "cell_type": "code",
   "execution_count": 126,
   "metadata": {},
   "outputs": [
    {
     "name": "stdout",
     "output_type": "stream",
     "text": [
      "| index: 0 >> {data:0, timestamp:0, previous_hash:0, block_hash:0, nonce:0} |\n"
     ]
    }
   ],
   "source": [
    "test_block = Block(0, 0, 0, 0)\n",
    "test_block.show()"
   ]
  },
  {
   "cell_type": "code",
   "execution_count": 130,
   "metadata": {},
   "outputs": [],
   "source": [
    "class Blockchain:\n",
    "    \n",
    "    difficulty = 2\n",
    "\n",
    "    @property\n",
    "    def last_block(self):\n",
    "        return self.chain[-1] \n",
    "\n",
    "    def __init__(self):\n",
    "        self.chain = []\n",
    "        self.create_genesis_block()\n",
    "        \n",
    "    def show_chain(self):\n",
    "        # A function to print the chain\n",
    "        \n",
    "        for i in self.chain:\n",
    "            i.show()\n",
    "            \n",
    "    def verify_chain(self):\n",
    "        # A function to verify the whole chain, checking the validity of each block\n",
    "\n",
    "        if(len(self.chain) <= 2):\n",
    "            return True\n",
    "        else:\n",
    "            for i in range(len(self.chain)-1, 1, -1):\n",
    "                block = self.chain[i]\n",
    "                pre_block = self.chain[i-1]\n",
    "                if not self.verify_chainlink(block, pre_block):\n",
    "                    return False\n",
    "            return True\n",
    "        \n",
    "    def verify_chainlink(self, block, previous_block):\n",
    "        # A function to verify a single chain link\n",
    "        \n",
    "        return ((block.hash).startswith('0' * Blockchain.difficulty) and\n",
    "                (block.hash) == block.compute_hash() and \n",
    "                block.previous_hash == previous_block.compute_hash())\n",
    "\n",
    "    def create_genesis_block(self):\n",
    "        # A function to generate genesis block and appends it to\n",
    "        # the chain. The block has index 0, previous_hash as 0, and\n",
    "        # a valid hash.\n",
    "        \n",
    "        genesis_block = Block(0, [], time.time(), \"0\")\n",
    "        genesis_block.hash = genesis_block.compute_hash()\n",
    "        self.chain.append(genesis_block)\n",
    "\n",
    "    def proof_of_work(self, block, show_process=False):\n",
    "        # Function that tries different values of nonce to get a hash\n",
    "        # that satisfies our difficulty criteria.\n",
    "        block.nonce = 0\n",
    "\n",
    "        computed_hash = block.compute_hash()\n",
    "        if not show_process:\n",
    "            while not computed_hash.startswith('0' * Blockchain.difficulty):\n",
    "                block.nonce += 1\n",
    "                computed_hash = block.compute_hash()\n",
    "        else:\n",
    "            tries_num = 0\n",
    "            while not computed_hash.startswith('0' * Blockchain.difficulty):\n",
    "                block.nonce += 1\n",
    "                computed_hash = block.compute_hash()\n",
    "                print(\"Try number: \"+str(tries_num)+\" -> \"+computed_hash)\n",
    "                tries_num += 1\n",
    "\n",
    "        return computed_hash\n",
    "\n",
    "    def add_block(self, block, proof):\n",
    "        # A function that adds the block to the chain after verification.\n",
    "        \n",
    "        previous_hash = self.last_block.hash\n",
    "\n",
    "        if previous_hash != block.previous_hash:\n",
    "            return False\n",
    "\n",
    "        if not self.is_valid_proof(block, proof):\n",
    "            return False\n",
    "\n",
    "        block.hash = proof\n",
    "        self.chain.append(block)\n",
    "        return True\n",
    "\n",
    "    def is_valid_proof(self, block, block_hash):\n",
    "        # Check if block_hash is valid hash of block and satisfies\n",
    "        # the difficulty criteria.\n",
    "        \n",
    "        return (block_hash.startswith('0' * Blockchain.difficulty) and\n",
    "                block_hash == block.compute_hash())\n",
    "\n",
    "    def mine(self, new_data, show_process=False):\n",
    "        # This function mines a new block containing the\n",
    "        # data given, if show_process is set as true the\n",
    "        # nonce finding process is shown.\n",
    "        \n",
    "        last_block = self.last_block\n",
    "\n",
    "        new_block = Block(index=last_block.index + 1,\n",
    "                          data=new_data,\n",
    "                          timestamp=time.time(),\n",
    "                          previous_hash=last_block.hash)\n",
    "\n",
    "        proof = self.proof_of_work(new_block, show_process)\n",
    "        self.add_block(new_block, proof)\n",
    "        return new_block.index\n"
   ]
  },
  {
   "cell_type": "code",
   "execution_count": 129,
   "metadata": {},
   "outputs": [
    {
     "name": "stdout",
     "output_type": "stream",
     "text": [
      "| index: 0 >> {data:[], timestamp:1556150135.6601815, previous_hash:0, block_hash:22c85d3ade12cb87241209039f27f5b88715a78fe5b96becbb89b67ae207a6c1, nonce:0} |\n",
      "| index: 1 >> {data:new data, timestamp:1556150135.6602893, previous_hash:22c85d3ade12cb87241209039f27f5b88715a78fe5b96becbb89b67ae207a6c1, block_hash:00dd578f199ec7323e22ffd7631496deb89c042034d039e5895a1a52d8abc03f, nonce:786} |\n",
      "| index: 2 >> {data:new data2, timestamp:1556150135.6651208, previous_hash:00dd578f199ec7323e22ffd7631496deb89c042034d039e5895a1a52d8abc03f, block_hash:0013f49c128f99d9f2acbeb4757de2ac00472d7c0161d047d9bbfba9ac8043aa, nonce:503} |\n"
     ]
    },
    {
     "data": {
      "text/plain": [
       "True"
      ]
     },
     "execution_count": 129,
     "metadata": {},
     "output_type": "execute_result"
    }
   ],
   "source": [
    "test_chain = Blockchain()\n",
    "test_chain.mine(\"new data\")\n",
    "test_chain.mine(\"new data2\")\n",
    "test_chain.show_chain()\n",
    "test_chain.verify_chain()"
   ]
  },
  {
   "cell_type": "code",
   "execution_count": null,
   "metadata": {},
   "outputs": [],
   "source": []
  }
 ],
 "metadata": {
  "kernelspec": {
   "display_name": "Python 3",
   "language": "python",
   "name": "python3"
  },
  "language_info": {
   "codemirror_mode": {
    "name": "ipython",
    "version": 3
   },
   "file_extension": ".py",
   "mimetype": "text/x-python",
   "name": "python",
   "nbconvert_exporter": "python",
   "pygments_lexer": "ipython3",
   "version": "3.6.7"
  }
 },
 "nbformat": 4,
 "nbformat_minor": 2
}
